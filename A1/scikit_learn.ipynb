{
 "cells": [
  {
   "cell_type": "code",
   "execution_count": null,
   "metadata": {},
   "outputs": [],
   "source": [
    "import csv\n",
    "import matplotlib.pyplot as plt\n",
    "import numpy as np\n",
    "from matplotlib.colors import ListedColormap\n",
    "from sklearn.neighbors import KNeighborsClassifier\n",
    "\n",
    "# load the microchips dataset\n",
    "with open(\"./resources/datasets/microchips.csv\", 'r') as f:\n",
    "    reader = csv.reader(f)\n",
    "    data = list(reader)\n",
    "\n",
    "# define global variables\n",
    "X = np.array(data, dtype=float)\n",
    "x1 = X[:, 0]\n",
    "x2 = X[:, 1]\n",
    "z = X[:, 2]"
   ]
  },
  {
   "cell_type": "markdown",
   "metadata": {},
   "source": [
    "## Exercise 4: k-NN Classification using scikit-learn\n",
    "Repeat Exercise 1 but this time using the KNeighborsClassifier from scikit-learn.  "
   ]
  },
  {
   "cell_type": "markdown",
   "metadata": {},
   "source": [
    "**1.** Plot the original microchip data using different markers for the two classes OK and Fail. Faulty microchips are marked with the <span style=\"color:red\">red</span> color and the <span style=\"color:green\">green</span> one for the ok ones."
   ]
  },
  {
   "cell_type": "code",
   "execution_count": null,
   "metadata": {},
   "outputs": [],
   "source": [
    "# scatter the points and show the plot\n",
    "cmap = ListedColormap(['r', 'g'])\n",
    "plt.scatter(x1, x2, c=z, edgecolors='k', cmap=cmap)\n",
    "plt.show()"
   ]
  },
  {
   "cell_type": "markdown",
   "metadata": {},
   "source": [
    "**2.** Implement and use k-NN to predict whether three unknown microchips are likely to be OK or Fail. The properties associated with the three unknown microchips are **(−0.3, 1.0)**, **(−0.5, −0, 1)**, and **(0.6, 0.0)**, and you should repeat the experiments for **k = 1, 3, 5, 7**. Hence, a total of\n",
    "12 predictions. For example, for k = 5 the print out might look like:\n",
    "```python\n",
    "    k = 5\n",
    "    chip1: [-0.3, 1.0] ==> Fail\n",
    "    chip2: [-0.5, -0.1] ==> OK\n",
    "    chip3: [0.6, 0.0] ==> OK\n",
    "```"
   ]
  },
  {
   "cell_type": "code",
   "execution_count": null,
   "metadata": {},
   "outputs": [],
   "source": [
    "def predictLabels(n_neighbors, points):\n",
    "    knn = KNeighborsClassifier(n_neighbors)\n",
    "    knn.fit(X[:, :2], X[:, 2])\n",
    "    labels = knn.predict(points)\n",
    "    return labels\n",
    "\n",
    "k_values = [1, 3, 5, 7]\n",
    "chips = [[-0.3, 1.0], [-0.5, -0.1], [0.6, 0.0]]\n",
    "\n",
    "for k in k_values:\n",
    "    labels = predictLabels(k, chips)\n",
    "    print(f\"k = {k}\")\n",
    "    for i, chip in enumerate(chips):\n",
    "        print(f\"chip{i+1}: {chip} ==> {'OK' if labels[i] == 1.0 else 'Fail'}\")\n",
    "    print()"
   ]
  },
  {
   "cell_type": "markdown",
   "metadata": {},
   "source": [
    "**3.** Display a 2 x 2 plot similar to Figure 1 showing the decision boundary and the training error for **k = 1, 3, 5, 7**"
   ]
  },
  {
   "cell_type": "code",
   "execution_count": null,
   "metadata": {},
   "outputs": [],
   "source": [
    "# create mesh grid for the plot\n",
    "margin = 0.1\n",
    "x_min, x_max = x1.min() - margin, x1.max() + margin\n",
    "y_min, y_max = x2.min() - margin, x2.max() + margin\n",
    "\n",
    "x_mesh, y_mesh = np.meshgrid(\n",
    "    np.arange(x_min, x_max, 0.01), np.arange(y_min, y_max, 0.01)\n",
    ")\n",
    "\n",
    "mesh_points = np.c_[x_mesh.ravel(), y_mesh.ravel()]\n",
    "\n",
    "fig, axs = plt.subplots(2, 2, figsize=(10, 10))\n",
    "axs = axs.ravel()\n",
    "\n",
    "for i, k in enumerate(k_values):\n",
    "    mesh_labels = predictLabels(k, mesh_points)\n",
    "    reshaped_labels = mesh_labels.reshape(x_mesh.shape)\n",
    "    axs[i].pcolormesh(x_mesh, y_mesh, reshaped_labels, cmap=cmap)\n",
    "    axs[i].scatter(x1, x2, c=z, edgecolors='k', cmap=cmap)\n",
    "    axs[i].set_title(f\"k = {k}\")"
   ]
  }
 ],
 "metadata": {
  "kernelspec": {
   "display_name": "2DV516",
   "language": "python",
   "name": "python3"
  },
  "language_info": {
   "codemirror_mode": {
    "name": "ipython",
    "version": 3
   },
   "file_extension": ".py",
   "mimetype": "text/x-python",
   "name": "python",
   "nbconvert_exporter": "python",
   "pygments_lexer": "ipython3",
   "version": "3.12.3"
  }
 },
 "nbformat": 4,
 "nbformat_minor": 2
}
