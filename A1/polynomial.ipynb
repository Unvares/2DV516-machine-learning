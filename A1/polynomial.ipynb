{
 "cells": [
  {
   "cell_type": "code",
   "execution_count": null,
   "metadata": {},
   "outputs": [],
   "source": [
    "import csv\n",
    "import matplotlib.pyplot as plt\n",
    "from matplotlib.colors import ListedColormap\n",
    "import numpy as np\n",
    "from methods import normalize_features, kNN_regression, calc_MSE\n",
    "\n",
    "# load the microchips dataset\n",
    "with open(\"./resources/datasets/polynomial200.csv\", \"r\") as f:\n",
    "    reader = csv.reader(f)\n",
    "    data = list(reader)\n",
    "\n",
    "# define global variables\n",
    "X_train = np.array(data[:100], dtype=float)\n",
    "X_test = np.array(data[100:], dtype=float)\n",
    "\n",
    "# Uncomment to normalize the features\n",
    "# X_train = normalize_features(X_train)\n",
    "# X_test = normalize_features(X_test)\n",
    "\n",
    "x1_train = X_train[:, 0]\n",
    "x2_train = X_train[:, 1]\n",
    "\n",
    "x1_test = X_test[:, 0]\n",
    "x2_test = X_test[:, 1]"
   ]
  },
  {
   "cell_type": "markdown",
   "metadata": {},
   "source": [
    "## Exercise 2: k-NN Regression\n",
    "\n",
    "The datasets polynomial200.csv contains 200 x, y samples generated from the function  \n",
    "$y = f(x) = 5 + 12x - x^2 + 0.025x^3 + \\text{normrnd}(0, 5)$\n",
    "\n",
    "Create a program Polynomial that:  \n",
    "\n",
    "1. Divide the dataset into a training set of size 100, and test set of size 100\n",
    "2. Plot the training and test set side-by-side in a 1 ×2 pattern"
   ]
  },
  {
   "cell_type": "code",
   "execution_count": null,
   "metadata": {},
   "outputs": [],
   "source": [
    "# creating plot\n",
    "fig, axs = plt.subplots(1,2,figsize=(15,5))\n",
    "axs = axs.ravel()\n",
    "\n",
    "axs[0].scatter(x1_train, x2_train, c=\"b\", s=4)\n",
    "axs[0].set_title(\"Training data\")\n",
    "\n",
    "axs[1].scatter(x1_test, x2_test, c=\"b\", s=4)\n",
    "axs[1].set_title(\"Testing data\")\n",
    "\n",
    "plt.show()"
   ]
  },
  {
   "cell_type": "markdown",
   "metadata": {},
   "source": [
    "**3.** Display a 2 ×3 plot showing the k-NN regression result and the MSE training error for **k = 1, 3, 5, 7, 9, 11**. For example, the plot for **k = 5** might look something like this\n",
    "<center><image src=\"./resources/images/plot.jpg\" width=\"600\"/></center>"
   ]
  },
  {
   "cell_type": "code",
   "execution_count": null,
   "metadata": {},
   "outputs": [],
   "source": [
    "x_min, x_max = x1_train.min(), x1_train.max()\n",
    "step = 0.001\n",
    "x_line = np.arange(x_min, x_max + step, step)\n",
    "\n",
    "fig, axs = plt.subplots(2, 3, figsize=(15, 10))\n",
    "axs = axs.ravel()\n",
    "\n",
    "k_values = [1, 3, 5, 7, 9, 11]\n",
    "Y = np.empty((len(k_values), len(x_line)), float)\n",
    "for i, k in enumerate(k_values):\n",
    "    y_line = kNN_regression(X_train, x_line, k)\n",
    "    Y[i] = y_line\n",
    "    X_hat = np.c_[x_line, y_line]\n",
    "    mse = calc_MSE(X_train, X_hat)\n",
    "    axs[i].scatter(x1_train, x2_train, c=\"b\", s=4)\n",
    "    axs[i].plot(x_line, y_line, c=\"r\")\n",
    "    axs[i].set_title(f\"k = {k}, MSE = {round(mse, 2)}\")\n",
    "plt.show()"
   ]
  },
  {
   "cell_type": "markdown",
   "metadata": {},
   "source": [
    "**4.** Compute and present the MSE test error for **k = 1, 3, 5, 7, 9, 11**."
   ]
  },
  {
   "cell_type": "code",
   "execution_count": null,
   "metadata": {},
   "outputs": [],
   "source": [
    "print(\"MSE for testing data\")\n",
    "for i, k in enumerate(k_values):\n",
    "    X_hat = np.c_[x_line, Y[i]]\n",
    "    mse = calc_MSE(X_test, X_hat)\n",
    "    print(f\"k = {k}, MSE = {round(mse, 2)}\")"
   ]
  },
  {
   "cell_type": "markdown",
   "metadata": {},
   "source": [
    "**5.** Which k gives the best regression? Motivate your answer!\n",
    "\n",
    "In my opinion, k = 5 provides the best regression for the following reasons:\n",
    "\n",
    "1) **Higher k are underfitting**: The dataset contains numerous outliers that distort the MSE calculations for larger k values, resulting in an underfitting curve. This underfitting is particularly noticeable in the plots for k = 7, 9, and 11 on the training dataset, especially for the points in the top right corner.\n",
    "\n",
    "2) **Smaller k are overfitting**: The results for k = 1 and 3 are overfitted, which leads to higher MSE values for the testing dataset.\n",
    "\n",
    "3) **Middle Ground**: k = 5 offers a balanced approach by providing the second smallest MSE, while also effectively adapting to the outliers in the dataset.\n",
    "\n",
    "It's important to note that the optimal value for k may vary depending on the dataset and the specific context of the problem. In this particular case, k = 5 is the most optimal solution, but this may not hold true for other datasets or problem contexts.\n"
   ]
  }
 ],
 "metadata": {
  "kernelspec": {
   "display_name": "2DV516",
   "language": "python",
   "name": "python3"
  },
  "language_info": {
   "codemirror_mode": {
    "name": "ipython",
    "version": 3
   },
   "file_extension": ".py",
   "mimetype": "text/x-python",
   "name": "python",
   "nbconvert_exporter": "python",
   "pygments_lexer": "ipython3",
   "version": "3.12.3"
  }
 },
 "nbformat": 4,
 "nbformat_minor": 2
}
