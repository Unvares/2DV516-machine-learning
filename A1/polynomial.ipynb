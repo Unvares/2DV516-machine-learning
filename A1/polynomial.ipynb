{
 "cells": [
  {
   "cell_type": "code",
   "execution_count": null,
   "metadata": {},
   "outputs": [],
   "source": [
    "import csv\n",
    "import matplotlib.pyplot as plt\n",
    "from matplotlib.colors import ListedColormap\n",
    "import numpy as np\n",
    "from kNNModel import kNNModel\n",
    "\n",
    "# loading the microchips dataset\n",
    "with open(\"./resources/datasets/polynomial200.csv\", \"r\") as f:\n",
    "    reader = csv.reader(f)\n",
    "    data = list(reader)\n",
    "\n",
    "# defining global variables\n",
    "X_train = np.array(data[:100], dtype=float)\n",
    "X_test = np.array(data[100:], dtype=float)\n",
    "\n",
    "# instantiating kNN Model\n",
    "kNN = kNNModel()\n",
    "kNN.fit(X_train[:, [0]], X_train[:, 1], X_test[:, [0]], X_test[:, 1])\n",
    "kNN.normalize(type=\"sd\") # 'sd' stands for \"standard deviation\""
   ]
  },
  {
   "cell_type": "markdown",
   "metadata": {},
   "source": [
    "## Exercise 2: k-NN Regression\n",
    "\n",
    "The datasets polynomial200.csv contains 200 x, y samples generated from the function  \n",
    "$y = f(x) = 5 + 12x - x^2 + 0.025x^3 + \\text{normrnd}(0, 5)$\n",
    "\n",
    "Create a program Polynomial that:  \n",
    "\n",
    "1. Divide the dataset into a training set of size 100, and test set of size 100\n",
    "2. Plot the training and test set side-by-side in a 1 ×2 pattern"
   ]
  },
  {
   "cell_type": "code",
   "execution_count": null,
   "metadata": {},
   "outputs": [],
   "source": [
    "# creating plot\n",
    "fig, axs = plt.subplots(1,2,figsize=(15,5))\n",
    "axs = axs.ravel()\n",
    "\n",
    "axs[0].scatter(kNN.X_train, kNN.y_train, c=\"b\", s=4)\n",
    "axs[0].set_title(\"Training data\")\n",
    "\n",
    "axs[1].scatter(kNN.X_test, kNN.y_test, c=\"b\", s=4)\n",
    "axs[1].set_title(\"Testing data\")\n",
    "\n",
    "plt.show()"
   ]
  },
  {
   "cell_type": "markdown",
   "metadata": {},
   "source": [
    "**3.** Display a 2 ×3 plot showing the k-NN regression result and the MSE training error for **k = 1, 3, 5, 7, 9, 11**. For example, the plot for **k = 5** might look something like this\n",
    "<center><image src=\"./resources/images/plot.jpg\" width=\"600\"/></center>"
   ]
  },
  {
   "cell_type": "code",
   "execution_count": null,
   "metadata": {},
   "outputs": [],
   "source": [
    "step = 0.00001\n",
    "x_points = np.arange(kNN.X_train.min(), kNN.X_train.max() + step, step).reshape(-1, 1)\n",
    "\n",
    "fig, axs = plt.subplots(2, 3, figsize=(15, 10))\n",
    "axs = axs.ravel()\n",
    "\n",
    "k_values = [1, 3, 5, 7, 9, 11]\n",
    "k_labels = np.empty((len(k_values), len(x_points)), float)\n",
    "for i, k in enumerate(k_values):\n",
    "    labels = kNN.regress(x_points, k)\n",
    "    k_labels[i] = labels\n",
    "    mse = kNN.MSE(x_points, labels, test=False)\n",
    "    axs[i].scatter(kNN.X_train, kNN.y_train, c=\"b\", s=4)\n",
    "    axs[i].plot(x_points, labels, c=\"r\")\n",
    "    axs[i].set_title(f\"k = {k}, MSE = {round(mse, 2)}\")\n",
    "plt.show()"
   ]
  },
  {
   "cell_type": "markdown",
   "metadata": {},
   "source": [
    "**4.** Compute and present the MSE test error for **k = 1, 3, 5, 7, 9, 11**."
   ]
  },
  {
   "cell_type": "code",
   "execution_count": null,
   "metadata": {},
   "outputs": [],
   "source": [
    "print(\"MSE for testing data\")\n",
    "for i, k in enumerate(k_values):\n",
    "    mse = kNN.MSE(x_points, k_labels[i])\n",
    "    print(f\"k = {k}, MSE = {round(mse, 2)}\")"
   ]
  },
  {
   "cell_type": "markdown",
   "metadata": {},
   "source": [
    "**5.** Which k gives the best regression? Motivate your answer!\n",
    "\n",
    "In my opinion, k = 5 provides the best regression for the following reasons:\n",
    "\n",
    "1) **Higher k are underfitting**: The dataset contains numerous outliers that distort the MSE calculations for larger k values, resulting in an underfitting curve. This underfitting is particularly noticeable in the plots for k = 7, 9, and 11 on the training dataset, especially for the points in the top right corner.\n",
    "\n",
    "2) **Smaller k are overfitting**: The results for k = 1 and 3 are overfitted, which leads to higher MSE values for the testing dataset.\n",
    "\n",
    "3) **Middle Ground**: k = 5 offers a balanced approach. It effectively adapts to the outliers in the dataset, providing the smallest MSE for the normalized version and the second smallest for the non-normalized version.\n",
    "\n",
    "It's important to note that the optimal value for k may vary depending on the dataset and the specific context of the problem. In this particular case, k = 5 is the most optimal solution, but this may not hold true for other datasets or problem contexts."
   ]
  }
 ],
 "metadata": {
  "kernelspec": {
   "display_name": "2DV516",
   "language": "python",
   "name": "python3"
  },
  "language_info": {
   "codemirror_mode": {
    "name": "ipython",
    "version": 3
   },
   "file_extension": ".py",
   "mimetype": "text/x-python",
   "name": "python",
   "nbconvert_exporter": "python",
   "pygments_lexer": "ipython3",
   "version": "3.12.3"
  }
 },
 "nbformat": 4,
 "nbformat_minor": 2
}
