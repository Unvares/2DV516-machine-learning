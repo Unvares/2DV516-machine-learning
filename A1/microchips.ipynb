{
 "cells": [
  {
   "cell_type": "code",
   "execution_count": null,
   "metadata": {},
   "outputs": [],
   "source": [
    "import csv\n",
    "import numpy as np\n",
    "import matplotlib.pyplot as plt\n",
    "from matplotlib.colors import ListedColormap\n",
    "from methods import kNN_predict\n",
    "\n",
    "# load the microchips dataset\n",
    "with open(\"./resources/datasets/microchips.csv\", 'r') as f:\n",
    "    reader = csv.reader(f)\n",
    "    data = list(reader)\n",
    "    \n",
    "# define global variables\n",
    "k_values = [1, 3, 5, 7]\n",
    "T = np.array(data, dtype=float)\n",
    "x1 = T[:, 0]\n",
    "x2 = T[:, 1]\n",
    "z = T[:, 2]\n",
    "cmap = ListedColormap(['r', 'g']) # color map for labels 0 and 1 respectively"
   ]
  },
  {
   "cell_type": "markdown",
   "metadata": {},
   "source": [
    "## Exercise 1: k-NN Classification\n",
    "In Lecture 1 we used as an example the Iris2D dataset for classifying three subspecies of the flower Iris based on petal and sepal leaf areas. We also presented a figure showing the original dataset and the decision boundary with corresponding training error for **k = 1, 3, 5**.\n",
    "\n",
    "<center><image src=\"./resources/images/figure1.jpg\" width=\"600\"/></center>\n",
    "\n",
    "In this exercise you should create a similar figure for the dataset in microchips.csv containing data related to an attempt to identify flaws in a microchip based on two numerical chip properties. Each row in the file represents one microchip and contains three comma separated values, the two properties and an integer (1 or 0) indicating if the microchip turned out to be OK (1) or Failed (0)."
   ]
  },
  {
   "cell_type": "markdown",
   "metadata": {},
   "source": [
    "\n",
    "Create a program Microchips that:  \n",
    "\n",
    "**1.** Plot the original microchip data using different markers for the two classes OK and Fail. Faulty microchips are marked with the <span style=\"color:red\">red</span> color and the <span style=\"color:green\">green</span> one for the ok ones."
   ]
  },
  {
   "cell_type": "code",
   "execution_count": null,
   "metadata": {},
   "outputs": [],
   "source": [
    "# scatter the points and show the plot\n",
    "plt.scatter(x1, x2, c=z, edgecolors='k', cmap=cmap)\n",
    "plt.show()"
   ]
  },
  {
   "cell_type": "markdown",
   "metadata": {},
   "source": [
    "**2.** Implement and use k-NN to predict whether three unknown microchips are likely to be OK or Fail. The properties associated with the three unknown microchips are **(−0.3, 1.0)**, **(−0.5, −0, 1)**, and **(0.6, 0.0)**, and you should repeat the experiments for **k = 1, 3, 5, 7**. Hence, a total of\n",
    "12 predictions. For example, for k = 5 the print out might look like:\n",
    "```python\n",
    "    k = 5\n",
    "    chip1: [-0.3, 1.0] ==> Fail\n",
    "    chip2: [-0.5, -0.1] ==> OK\n",
    "    chip3: [0.6, 0.0] ==> OK\n",
    "```"
   ]
  },
  {
   "cell_type": "code",
   "execution_count": null,
   "metadata": {},
   "outputs": [],
   "source": [
    "chips = [[-0.3, 1.0], [-0.5, -0.1], [0.6, 0.0]]\n",
    "for i, k in enumerate(k_values):\n",
    "    labels = kNN_predict(T, chips, k)\n",
    "    print(f\"k = {k}\")\n",
    "    for j, chip in enumerate(chips):\n",
    "        print(f\"chip{j+1}: {chip} ==> {\"OK\" if labels[j] == 1.0 else \"Fail\"}\")\n",
    "    print()"
   ]
  },
  {
   "cell_type": "markdown",
   "metadata": {},
   "source": [
    "**3.** Display a 2 ×2 plot similar to Figure 1 showing the decision boundary and the training error for **k = 1, 3, 5, 7**"
   ]
  },
  {
   "cell_type": "code",
   "execution_count": null,
   "metadata": {},
   "outputs": [],
   "source": [
    "# defining mesh grids boundaries\n",
    "margin = 0.1\n",
    "x_min, x_max = x1.min() - margin, x1.max() + margin\n",
    "y_min, y_max = x2.min() - margin, x2.max() + margin\n",
    "\n",
    "# creating mesh grid for the plot\n",
    "x_mesh, y_mesh = np.meshgrid(\n",
    "    np.arange(x_min, x_max, 0.01), np.arange(y_min, y_max, 0.01)\n",
    ")\n",
    "\n",
    "# creating the plot\n",
    "fig, axs = plt.subplots(2, 2, figsize=(10, 10))\n",
    "axs = axs.ravel()\n",
    "\n",
    "mesh_points = np.c_[x_mesh.ravel(), y_mesh.ravel()]\n",
    "for i, k in enumerate(k_values):\n",
    "    mesh_labels = kNN_predict(T, mesh_points, k)\n",
    "    reshaped_labels = mesh_labels.reshape(x_mesh.shape)\n",
    "    axs[i].pcolormesh(x_mesh, y_mesh, reshaped_labels, cmap=cmap)\n",
    "    axs[i].scatter(x1, x2, c=z, edgecolors='k', cmap=cmap)\n",
    "    axs[i].set_title(f\"k = {k}\")"
   ]
  }
 ],
 "metadata": {
  "kernelspec": {
   "display_name": "2DV516",
   "language": "python",
   "name": "python3"
  },
  "language_info": {
   "codemirror_mode": {
    "name": "ipython",
    "version": 3
   },
   "file_extension": ".py",
   "mimetype": "text/x-python",
   "name": "python",
   "nbconvert_exporter": "python",
   "pygments_lexer": "ipython3",
   "version": "3.12.3"
  }
 },
 "nbformat": 4,
 "nbformat_minor": 2
}
