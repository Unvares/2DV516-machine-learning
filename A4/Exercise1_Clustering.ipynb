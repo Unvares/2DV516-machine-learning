{
 "cells": [
  {
   "cell_type": "markdown",
   "metadata": {},
   "source": [
    "# Exercise 1: Clustering\n",
    "**Goal:** Implement the clustering algorithm called Bisecting k-Means.\n",
    "\n",
    "Bisecting k-Means is a clustering algorithm that combines hierarchical clustering with k-Means. However, differently than the hierarchical clustering we saw in the lecture, it uses a divisive, top-down approach (instead of the agglomerative, bottom-up that we are used to). It consists on the steps described below:  \n",
    "1. Start with a single cluster including all the observations in the data set.\n",
    "2. [Bisecting] Divide the largest cluster into two smaller sub-clusters using k-Means.\n",
    "3. Redo the bisecting step iter times and choose the best solution according to the Sum of Squared Errors (SSE).\n",
    "4. Repeat from Step 2 until you have k clusters.\n",
    "\n",
    "Implement the Bisecting k-Means algorithm in a function called bkmeans. It should take as input: (a) the data X to cluster, as a n×pmatrix (nobservations by pfeatures); (b) the number k of clusters; and (c) the number iter of iterations for step 3. It should generate as output a n×1 vector with the cluster indices for each of the n observations.\n",
    "\n",
    "**Notes:**  \n",
    "1. You must implement K-Means yourself, from scratch.\n",
    "2. The requirements are strict. I will use standard test cases in order to test your solution by calling the function\n",
    "bkmeans as described."
   ]
  }
 ],
 "metadata": {
  "language_info": {
   "name": "python"
  }
 },
 "nbformat": 4,
 "nbformat_minor": 2
}
