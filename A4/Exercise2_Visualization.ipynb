{
 "cells": [
  {
   "cell_type": "markdown",
   "metadata": {},
   "source": [
    "# Exercise 2: Visualization of Results\n",
    "In this exercise you will visualize and explore the results of the previous exercise in a simple manner, using scatterplots. This will be a relatively open-ended task; you will choose three data sets and explore them with the new technique you built for yourself. These could be data sets you already used in previous assignments, or you could download some new data. The only restrictions are that (a) the data sets must be multidimensional (i.e., more than 4 features), (b)\n",
    "they must have labels, and (c) they must have at least 1000 data points.\n",
    "\n",
    "These are some examples of interesting places to obtain new data sets:  \n",
    "- http://archive.ics.uci.edu/ml/index.php\n",
    "- https://www.openml.org/search?type=data\n",
    "- https://www.kaggle.com/datasets\n",
    "\n",
    "Be careful, however, with the size of the data set you choose. Matlab or Python can get quite slow with too much data, and the scatterplots will also be very crowded, so go for smaller data sets this time."
   ]
  },
  {
   "cell_type": "code",
   "execution_count": null,
   "metadata": {},
   "outputs": [],
   "source": []
  },
  {
   "cell_type": "markdown",
   "metadata": {},
   "source": [
    "## Exercise 2.1: Comparison of DR Techniques\n",
    "\n",
    "Generate a scatterplot matrix comparing the results of three DR techniques: PCA, MDS, and t-SNE, for each data set. The resulting visualization should be a 3×3 matrix where each cell is a scatterplot of a DR technique applied to a data set. Color the points by their target variables (i.e., class/labels) using a qualitative colormap.\n",
    "\n",
    "Then answer this shortly (in a couple of paragraphs): In your opinion, which technique performed the best for each data set, regarding the separation of the classes? How are the classes in the data sets separated? Are some classes easier to separate than others?"
   ]
  },
  {
   "cell_type": "code",
   "execution_count": null,
   "metadata": {},
   "outputs": [],
   "source": []
  },
  {
   "cell_type": "markdown",
   "metadata": {},
   "source": [
    "## Exercise 2.2 Comparison of Clustering Techniques\n",
    "Choose one of the DR techniques from the previous exercise and generate a similar scatterplot matrix to compare the results of Bisecting k-Means with classic k-Means and hierarchical clustering for each data set. The resulting visualization should be a 3×3 matrix where each cell is a scatterplot of the chosen DR technique applied to a data set, with the colors of the points showing the clusters using a qualitative colormap (see, e.g., https://matplotlib.org/tutorials/colors/colormaps.html).\n",
    "\n",
    "Then answer this shortly (in a couple of paragraphs): In your opinion, which clustering technique performed the best for each data set? How are the clusters in the data sets separated? Are some clusters easier to separate than others?"
   ]
  },
  {
   "cell_type": "code",
   "execution_count": null,
   "metadata": {},
   "outputs": [],
   "source": []
  }
 ],
 "metadata": {
  "language_info": {
   "name": "python"
  }
 },
 "nbformat": 4,
 "nbformat_minor": 2
}
