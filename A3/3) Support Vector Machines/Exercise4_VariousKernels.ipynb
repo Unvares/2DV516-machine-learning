{
 "cells": [
  {
   "cell_type": "markdown",
   "metadata": {},
   "source": [
    "# Exercise 4: Various Kernels\n",
    "Use the dataset dist.csv, which is a small constructed toy set, it is visualized in Figure 4. The data is\n",
    "Gaussian mixture data, so there is a well-defined true decision bound. For x ∈ [-6, 10], this is approximated\n",
    "by\n",
    "\n",
    "```math\n",
    "d(x) =\n",
    "\\begin{cases} \n",
    "0.5 \\left( 18 - 2x - \\sqrt{-724 + 256x - 16x^2} \\right), & \\text{if } x > 3.94 \\\\\n",
    "0.071 \\left( 174 - 22x - \\sqrt{23123 - 6144x + 288x^2} \\right), & \\text{otherwise.}\n",
    "\\end{cases}\n",
    "```\n",
    "\n",
    "Hyperparameters to tune:\n",
    "- Linear Kernel: C\n",
    "- RBF Kernel: C, gamma\n",
    "- Polynomial Kernel: C, d, gamma (optional)\n",
    "\n",
    "## Part 1: Tune Hyperparameters\n",
    "Tune the necessary hyperparameters by, for instance, grid search. In this exercise we are concerned with\n",
    "the hyperparameters given in Table 1. Every hyperparameter should be tested for at least 3 values\n",
    "but you are free to add more testings. There is a desginated validation set that can be used for the\n",
    "validation of the hyperparameters dist_val.csv"
   ]
  },
  {
   "cell_type": "markdown",
   "metadata": {},
   "source": [
    "Import and prepare data and define the function for grid search"
   ]
  },
  {
   "cell_type": "code",
   "execution_count": 3,
   "metadata": {},
   "outputs": [],
   "source": [
    "from sklearn.model_selection import GridSearchCV, StratifiedKFold\n",
    "from sklearn.svm import SVC\n",
    "from sklearn.metrics import f1_score\n",
    "import pandas as pd\n",
    "\n",
    "train_data = pd.read_csv('./../resources/datasets/dist.csv', header=None, delimiter=';')\n",
    "val_data = pd.read_csv('./../resources/datasets/dist_val.csv', header=None, delimiter=';')\n",
    "\n",
    "X_train, y_train = train_data.iloc[:, :-1], train_data.iloc[:, -1]\n",
    "X_val, y_val = val_data.iloc[:, :-1], val_data.iloc[:, -1]\n",
    "\n",
    "def grid_search(param_grid):\n",
    "    stratified_kfold = StratifiedKFold(n_splits=5, shuffle=True, random_state=1945)\n",
    "\n",
    "    all_results = {}\n",
    "    best_params = {}\n",
    "    best_scores = {}\n",
    "    best_models = {}\n",
    "\n",
    "    for kernel_type, params in param_grid.items():\n",
    "        svc = SVC()\n",
    "\n",
    "        def validation_scorer(estimator, X, y):\n",
    "            estimator.fit(X, y)\n",
    "            val_predictions = estimator.predict(X_val)\n",
    "            return f1_score(y_val, val_predictions)\n",
    "\n",
    "        grid_search = GridSearchCV(svc, params, scoring=validation_scorer, cv=stratified_kfold, return_train_score=False)\n",
    "        grid_search.fit(X_train, y_train)\n",
    "        results_df = pd.DataFrame(grid_search.cv_results_)\n",
    "        all_results[kernel_type] = results_df[['params', 'mean_test_score']]\n",
    "        best_params[kernel_type] = grid_search.best_params_\n",
    "        best_scores[kernel_type] = grid_search.best_score_\n",
    "        best_models[kernel_type] = grid_search.best_estimator_\n",
    "\n",
    "    for kernel_type, results in all_results.items():\n",
    "        print(f\"Results for {kernel_type} kernel:\")\n",
    "        print(results)\n",
    "\n",
    "    print(\"Best hyperparameters for each kernel type:\", best_params)\n",
    "    print(\"Validation F1 scores for each kernel type:\", best_scores)\n",
    "\n",
    "    return best_models"
   ]
  },
  {
   "cell_type": "markdown",
   "metadata": {},
   "source": [
    "Run grid search"
   ]
  },
  {
   "cell_type": "code",
   "execution_count": null,
   "metadata": {},
   "outputs": [],
   "source": [
    "# C_values = [0.001, 0.01, 0.1, 1, 10, 100, 1000]\n",
    "# gamma_values = [0.001, 0.01, 0.1, 1]\n",
    "# degree_values = [2, 3, 4]\n",
    "\n",
    "C_values = [0.1, 1]\n",
    "gamma_values = [0.01, 0.1]\n",
    "degree_values = [2, 3]\n",
    "\n",
    "param_grid = {\n",
    "    'linear': {'kernel': ['linear'], 'C': C_values},\n",
    "    'rbf': {'kernel': ['rbf'], 'C': C_values, 'gamma': gamma_values},\n",
    "    'poly': {'kernel': ['poly'], 'C': C_values, 'degree': degree_values, 'gamma': gamma_values}\n",
    "}\n",
    "\n",
    "grid_search(param_grid)"
   ]
  },
  {
   "cell_type": "markdown",
   "metadata": {},
   "source": [
    "### Best Hyperparameters\n",
    "\n",
    "**Linear Kernel**\n",
    "- **C**: 0.1\n",
    " \n",
    "**RBF Kernel**\n",
    "- **C**: 1\n",
    "- **Gamma**: 0.1\n",
    " \n",
    "**Polynomial Kernel**\n",
    "- **C**: 1000\n",
    "- **Gamma**: 1\n",
    "- **Degree**: 3\n"
   ]
  },
  {
   "cell_type": "markdown",
   "metadata": {},
   "source": [
    "Redefine parameter grid to search around the previously identified best values"
   ]
  },
  {
   "cell_type": "code",
   "execution_count": 4,
   "metadata": {},
   "outputs": [],
   "source": [
    "refined_param_grid = {\n",
    "    'linear': {\n",
    "        'kernel': ['linear'],\n",
    "        'C': [0.05, 0.075, 0.1, 0.125, 0.15]\n",
    "    },\n",
    "    'rbf': {\n",
    "        'kernel': ['rbf'],\n",
    "        'C': [0.5, 0.75, 1, 1.25, 1.5],\n",
    "        'gamma': [0.05, 0.075, 0.1, 0.125, 0.15]\n",
    "    },\n",
    "    'poly': {\n",
    "        'kernel': ['poly'],\n",
    "        'C': [500, 750, 1000, 1250, 1500],\n",
    "        'degree': [2, 3, 4], \n",
    "        'gamma': [0.5, 0.75, 1, 1.25, 1.5]\n",
    "    }\n",
    "}\n",
    "\n",
    "models = grid_search(refined_param_grid)"
   ]
  },
  {
   "cell_type": "markdown",
   "metadata": {},
   "source": [
    "## Part 2: Plots\n",
    "\n",
    "For each kernel, produce a plot of the decision boundary for the best models together with the data.\n",
    "If you want you can also include the true decision boundary as a comparison."
   ]
  },
  {
   "cell_type": "code",
   "execution_count": null,
   "metadata": {},
   "outputs": [],
   "source": []
  }
 ],
 "metadata": {
  "kernelspec": {
   "display_name": "2DV516",
   "language": "python",
   "name": "python3"
  },
  "language_info": {
   "codemirror_mode": {
    "name": "ipython",
    "version": 3
   },
   "file_extension": ".py",
   "mimetype": "text/x-python",
   "name": "python",
   "nbconvert_exporter": "python",
   "pygments_lexer": "ipython3",
   "version": "3.12.5"
  }
 },
 "nbformat": 4,
 "nbformat_minor": 2
}
